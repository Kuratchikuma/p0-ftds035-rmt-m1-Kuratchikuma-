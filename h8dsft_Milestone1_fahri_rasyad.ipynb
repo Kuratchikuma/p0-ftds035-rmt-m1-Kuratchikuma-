{
 "cells": [
  {
   "cell_type": "markdown",
   "metadata": {},
   "source": [
    "# Analisa Kesehatan Mental Mahasiswa dan Faktor-Faktor yang Mempengaruhi"
   ]
  },
  {
   "cell_type": "markdown",
   "metadata": {},
   "source": [
    "# Nama : Fahri Armand Rasyad\n",
    "# Batch : RMT-035"
   ]
  },
  {
   "cell_type": "markdown",
   "metadata": {},
   "source": [
    "### Fahri merupakan bidang kemahasiswaan dari suatu kampus di malang yang bertugas untuk mencari tahu apa yang mempengaruhi kesehatan mental pada mahasiswa dan mahasiswa lalu memberikan solusi yang sesuai berdasarkan kesimpulan dari analisa data"
   ]
  },
  {
   "cell_type": "markdown",
   "metadata": {},
   "source": [
    "## Identifikasi Masalah"
   ]
  },
  {
   "cell_type": "markdown",
   "metadata": {},
   "source": [
    "## SMART\n",
    "### Specific: Mengetahui faktor apa yang mempengaruhi kesehatan mental\n",
    "### Measurable : Jumlah mahasiswa, tingkat depresi, tingkat isolasi, tingkat kecemasan, tingkat diskriminasi, tingkat beban akademik, durasi tidur dan aktivitas olahraga\n",
    "### Achievable : Dengan data yang sudah didapatkan, kita dapat mengetahui faktor apa yang benar-benar mempengaruhi kesehatan mental, dan dengan itu dapat mulai untuk mencari solusi yang tepat\n",
    "### Relevant : Faktor yang mempengaruhi kesehatan mental dan nilai akademik\n",
    "### Time-Bound: Mencari solusi dalam kurun waktu 1 bulan setelah masalah ditemukan"
   ]
  },
  {
   "cell_type": "markdown",
   "metadata": {},
   "source": [
    "## Problem Statement: Mengetahui faktor-faktor umum yang mempengaruhi kesehatan mental mahasiswa dan pencapaian akademik mereka"
   ]
  },
  {
   "cell_type": "markdown",
   "metadata": {},
   "source": [
    "## Analytic Metrics \n",
    "### menggunakan client load untuk melihat tingkat stress mahasiswa dan apa yang mempengaruhi\n",
    "### dari link berikut https://therapybrands.com/blog/6-business-metrics-therapists-must-track/"
   ]
  },
  {
   "cell_type": "markdown",
   "metadata": {},
   "source": [
    "## Penjabaran Masalah\n",
    "### 1. Bagaimana distribusi kondisi kesehatan mental seperti depresi berdasarkan gender?(visualization)\n",
    "### 2. Bagaimana hubungan antara tahun kuliah (academic_year) dengan beban akademik (academic_workload)?(visualization)\n",
    "### 3. Apakah ada hubungan antara durasi tidur rata-rata (average_sleep) dan rata-rata nilai akademik (average_gpa)?(visualization)\n",
    "### 4. Bagaimana Finansial (financial_concerns) mempengaruhi rata-rata nilai akademik (average_gpa)?(visualization)\n",
    "### 5. Apakah  jurusan mempengaruhi tingkat insekuritas masa depan?(Descriptive)\n",
    "### 6. Adakah korelasi antara umur dengan tingkat insekuritas masa depan?(Descriptive)\n",
    "### 7. Apakah aktivitas olahraga (sports_engagement) secara signifikan mempengaruhi tingkat depresi mahasiswa?(inferential)\n",
    "### 8. Apakah tingkat hubungan sosial berhubungan dengan tingkat depresi?(visualization)\n",
    "### 9. Aktivitas Stress Relieve apa yang paling banyak dilakukan oleh mahasiswa dan mahasiswi(Descriptive)\n",
    "### 10. Apakah Status tempat tinggal mempengaruhi nilai akademik?(visualization)"
   ]
  },
  {
   "cell_type": "markdown",
   "metadata": {},
   "source": [
    "## Link Tableau : https://public.tableau.com/app/profile/fahri.rasyad/viz/AnalisaKesehatanMentalMahasiswadanFaktor-FaktoryangMempengaruhiFahriArmandRasyad/AnalysisofStudentMentalHealthandInfluencingFactors?publish=yes"
   ]
  },
  {
   "cell_type": "markdown",
   "metadata": {},
   "source": [
    "## Data Loading\n",
    "### Data bersumber di https://www.kaggle.com/datasets/abdullahashfaqvirk/student-mental-health-survey"
   ]
  },
  {
   "cell_type": "code",
   "execution_count": 2,
   "metadata": {},
   "outputs": [
    {
     "name": "stdout",
     "output_type": "stream",
     "text": [
      "<class 'pandas.core.frame.DataFrame'>\n",
      "RangeIndex: 87 entries, 0 to 86\n",
      "Data columns (total 21 columns):\n",
      " #   Column                    Non-Null Count  Dtype \n",
      "---  ------                    --------------  ----- \n",
      " 0   gender                    87 non-null     object\n",
      " 1   age                       87 non-null     int64 \n",
      " 2   university                87 non-null     object\n",
      " 3   degree_level              87 non-null     object\n",
      " 4   degree_major              87 non-null     object\n",
      " 5   academic_year             87 non-null     object\n",
      " 6   cgpa                      87 non-null     object\n",
      " 7   residential_status        87 non-null     object\n",
      " 8   campus_discrimination     87 non-null     object\n",
      " 9   sports_engagement         87 non-null     object\n",
      " 10  average_sleep             87 non-null     object\n",
      " 11  study_satisfaction        87 non-null     int64 \n",
      " 12  academic_workload         87 non-null     int64 \n",
      " 13  academic_pressure         87 non-null     int64 \n",
      " 14  financial_concerns        87 non-null     int64 \n",
      " 15  social_relationships      87 non-null     int64 \n",
      " 16  depression                87 non-null     int64 \n",
      " 17  anxiety                   87 non-null     int64 \n",
      " 18  isolation                 87 non-null     int64 \n",
      " 19  future_insecurity         87 non-null     int64 \n",
      " 20  stress_relief_activities  87 non-null     object\n",
      "dtypes: int64(10), object(11)\n",
      "memory usage: 14.4+ KB\n"
     ]
    }
   ],
   "source": [
    "import pandas as pd\n",
    "import matplotlib.pyplot as plt\n",
    "import seaborn as sns\n",
    "from scipy import stats\n",
    "\n",
    "# Load data dari CSV\n",
    "df = pd.read_csv('MentalHealthSurvey.csv')\n",
    "\n",
    "# Tampilkan struktur dan beberapa contoh data\n",
    "df.info()\n"
   ]
  },
  {
   "cell_type": "markdown",
   "metadata": {},
   "source": [
    "#### terdapat 21 kolom di dataframe"
   ]
  },
  {
   "cell_type": "code",
   "execution_count": 3,
   "metadata": {},
   "outputs": [
    {
     "data": {
      "text/html": [
       "<div>\n",
       "<style scoped>\n",
       "    .dataframe tbody tr th:only-of-type {\n",
       "        vertical-align: middle;\n",
       "    }\n",
       "\n",
       "    .dataframe tbody tr th {\n",
       "        vertical-align: top;\n",
       "    }\n",
       "\n",
       "    .dataframe thead th {\n",
       "        text-align: right;\n",
       "    }\n",
       "</style>\n",
       "<table border=\"1\" class=\"dataframe\">\n",
       "  <thead>\n",
       "    <tr style=\"text-align: right;\">\n",
       "      <th></th>\n",
       "      <th>gender</th>\n",
       "      <th>age</th>\n",
       "      <th>university</th>\n",
       "      <th>degree_level</th>\n",
       "      <th>degree_major</th>\n",
       "      <th>academic_year</th>\n",
       "      <th>cgpa</th>\n",
       "      <th>residential_status</th>\n",
       "      <th>campus_discrimination</th>\n",
       "      <th>sports_engagement</th>\n",
       "      <th>...</th>\n",
       "      <th>study_satisfaction</th>\n",
       "      <th>academic_workload</th>\n",
       "      <th>academic_pressure</th>\n",
       "      <th>financial_concerns</th>\n",
       "      <th>social_relationships</th>\n",
       "      <th>depression</th>\n",
       "      <th>anxiety</th>\n",
       "      <th>isolation</th>\n",
       "      <th>future_insecurity</th>\n",
       "      <th>stress_relief_activities</th>\n",
       "    </tr>\n",
       "  </thead>\n",
       "  <tbody>\n",
       "    <tr>\n",
       "      <th>0</th>\n",
       "      <td>Male</td>\n",
       "      <td>20</td>\n",
       "      <td>PU</td>\n",
       "      <td>Undergraduate</td>\n",
       "      <td>Data Science</td>\n",
       "      <td>2nd year</td>\n",
       "      <td>3.0-3.5</td>\n",
       "      <td>Off-Campus</td>\n",
       "      <td>No</td>\n",
       "      <td>No Sports</td>\n",
       "      <td>...</td>\n",
       "      <td>5</td>\n",
       "      <td>4</td>\n",
       "      <td>5</td>\n",
       "      <td>4</td>\n",
       "      <td>3</td>\n",
       "      <td>2</td>\n",
       "      <td>1</td>\n",
       "      <td>1</td>\n",
       "      <td>2</td>\n",
       "      <td>Religious Activities, Social Connections, Onli...</td>\n",
       "    </tr>\n",
       "    <tr>\n",
       "      <th>1</th>\n",
       "      <td>Male</td>\n",
       "      <td>20</td>\n",
       "      <td>UET</td>\n",
       "      <td>Postgraduate</td>\n",
       "      <td>Computer Science</td>\n",
       "      <td>3rd year</td>\n",
       "      <td>3.0-3.5</td>\n",
       "      <td>Off-Campus</td>\n",
       "      <td>No</td>\n",
       "      <td>1-3 times</td>\n",
       "      <td>...</td>\n",
       "      <td>5</td>\n",
       "      <td>4</td>\n",
       "      <td>4</td>\n",
       "      <td>1</td>\n",
       "      <td>3</td>\n",
       "      <td>3</td>\n",
       "      <td>3</td>\n",
       "      <td>3</td>\n",
       "      <td>4</td>\n",
       "      <td>Online Entertainment</td>\n",
       "    </tr>\n",
       "    <tr>\n",
       "      <th>2</th>\n",
       "      <td>Male</td>\n",
       "      <td>20</td>\n",
       "      <td>FAST</td>\n",
       "      <td>Undergraduate</td>\n",
       "      <td>Computer Science</td>\n",
       "      <td>3rd year</td>\n",
       "      <td>2.5-3.0</td>\n",
       "      <td>Off-Campus</td>\n",
       "      <td>No</td>\n",
       "      <td>1-3 times</td>\n",
       "      <td>...</td>\n",
       "      <td>5</td>\n",
       "      <td>5</td>\n",
       "      <td>5</td>\n",
       "      <td>3</td>\n",
       "      <td>4</td>\n",
       "      <td>2</td>\n",
       "      <td>3</td>\n",
       "      <td>3</td>\n",
       "      <td>1</td>\n",
       "      <td>Religious Activities, Sports and Fitness, Onli...</td>\n",
       "    </tr>\n",
       "    <tr>\n",
       "      <th>3</th>\n",
       "      <td>Male</td>\n",
       "      <td>20</td>\n",
       "      <td>UET</td>\n",
       "      <td>Undergraduate</td>\n",
       "      <td>Computer Science</td>\n",
       "      <td>3rd year</td>\n",
       "      <td>2.5-3.0</td>\n",
       "      <td>On-Campus</td>\n",
       "      <td>No</td>\n",
       "      <td>No Sports</td>\n",
       "      <td>...</td>\n",
       "      <td>3</td>\n",
       "      <td>5</td>\n",
       "      <td>4</td>\n",
       "      <td>4</td>\n",
       "      <td>1</td>\n",
       "      <td>5</td>\n",
       "      <td>5</td>\n",
       "      <td>5</td>\n",
       "      <td>3</td>\n",
       "      <td>Online Entertainment</td>\n",
       "    </tr>\n",
       "    <tr>\n",
       "      <th>4</th>\n",
       "      <td>Female</td>\n",
       "      <td>20</td>\n",
       "      <td>UET</td>\n",
       "      <td>Undergraduate</td>\n",
       "      <td>Computer Science</td>\n",
       "      <td>3rd year</td>\n",
       "      <td>3.0-3.5</td>\n",
       "      <td>Off-Campus</td>\n",
       "      <td>Yes</td>\n",
       "      <td>No Sports</td>\n",
       "      <td>...</td>\n",
       "      <td>3</td>\n",
       "      <td>5</td>\n",
       "      <td>5</td>\n",
       "      <td>2</td>\n",
       "      <td>3</td>\n",
       "      <td>5</td>\n",
       "      <td>5</td>\n",
       "      <td>4</td>\n",
       "      <td>4</td>\n",
       "      <td>Online Entertainment</td>\n",
       "    </tr>\n",
       "  </tbody>\n",
       "</table>\n",
       "<p>5 rows × 21 columns</p>\n",
       "</div>"
      ],
      "text/plain": [
       "   gender  age university   degree_level      degree_major academic_year  \\\n",
       "0    Male   20         PU  Undergraduate      Data Science      2nd year   \n",
       "1    Male   20        UET   Postgraduate  Computer Science      3rd year   \n",
       "2    Male   20       FAST  Undergraduate  Computer Science      3rd year   \n",
       "3    Male   20        UET  Undergraduate  Computer Science      3rd year   \n",
       "4  Female   20        UET  Undergraduate  Computer Science      3rd year   \n",
       "\n",
       "      cgpa residential_status campus_discrimination sports_engagement  ...  \\\n",
       "0  3.0-3.5         Off-Campus                    No         No Sports  ...   \n",
       "1  3.0-3.5         Off-Campus                    No         1-3 times  ...   \n",
       "2  2.5-3.0         Off-Campus                    No         1-3 times  ...   \n",
       "3  2.5-3.0          On-Campus                    No         No Sports  ...   \n",
       "4  3.0-3.5         Off-Campus                   Yes         No Sports  ...   \n",
       "\n",
       "  study_satisfaction  academic_workload   academic_pressure  \\\n",
       "0                  5                   4                  5   \n",
       "1                  5                   4                  4   \n",
       "2                  5                   5                  5   \n",
       "3                  3                   5                  4   \n",
       "4                  3                   5                  5   \n",
       "\n",
       "   financial_concerns  social_relationships  depression  anxiety  isolation  \\\n",
       "0                   4                     3           2        1          1   \n",
       "1                   1                     3           3        3          3   \n",
       "2                   3                     4           2        3          3   \n",
       "3                   4                     1           5        5          5   \n",
       "4                   2                     3           5        5          4   \n",
       "\n",
       "   future_insecurity                           stress_relief_activities  \n",
       "0                  2  Religious Activities, Social Connections, Onli...  \n",
       "1                  4                               Online Entertainment  \n",
       "2                  1  Religious Activities, Sports and Fitness, Onli...  \n",
       "3                  3                               Online Entertainment  \n",
       "4                  4                               Online Entertainment  \n",
       "\n",
       "[5 rows x 21 columns]"
      ]
     },
     "execution_count": 3,
     "metadata": {},
     "output_type": "execute_result"
    }
   ],
   "source": [
    "df.head()\n"
   ]
  },
  {
   "cell_type": "markdown",
   "metadata": {},
   "source": [
    "### Rangkuman Data"
   ]
  },
  {
   "cell_type": "code",
   "execution_count": 4,
   "metadata": {},
   "outputs": [
    {
     "data": {
      "text/html": [
       "<div>\n",
       "<style scoped>\n",
       "    .dataframe tbody tr th:only-of-type {\n",
       "        vertical-align: middle;\n",
       "    }\n",
       "\n",
       "    .dataframe tbody tr th {\n",
       "        vertical-align: top;\n",
       "    }\n",
       "\n",
       "    .dataframe thead th {\n",
       "        text-align: right;\n",
       "    }\n",
       "</style>\n",
       "<table border=\"1\" class=\"dataframe\">\n",
       "  <thead>\n",
       "    <tr style=\"text-align: right;\">\n",
       "      <th></th>\n",
       "      <th>age</th>\n",
       "      <th>study_satisfaction</th>\n",
       "      <th>academic_workload</th>\n",
       "      <th>academic_pressure</th>\n",
       "      <th>financial_concerns</th>\n",
       "      <th>social_relationships</th>\n",
       "      <th>depression</th>\n",
       "      <th>anxiety</th>\n",
       "      <th>isolation</th>\n",
       "      <th>future_insecurity</th>\n",
       "    </tr>\n",
       "  </thead>\n",
       "  <tbody>\n",
       "    <tr>\n",
       "      <th>count</th>\n",
       "      <td>87.000000</td>\n",
       "      <td>87.000000</td>\n",
       "      <td>87.000000</td>\n",
       "      <td>87.000000</td>\n",
       "      <td>87.000000</td>\n",
       "      <td>87.000000</td>\n",
       "      <td>87.000000</td>\n",
       "      <td>87.000000</td>\n",
       "      <td>87.000000</td>\n",
       "      <td>87.000000</td>\n",
       "    </tr>\n",
       "    <tr>\n",
       "      <th>mean</th>\n",
       "      <td>19.942529</td>\n",
       "      <td>3.931034</td>\n",
       "      <td>3.885057</td>\n",
       "      <td>3.781609</td>\n",
       "      <td>3.390805</td>\n",
       "      <td>2.781609</td>\n",
       "      <td>3.218391</td>\n",
       "      <td>3.218391</td>\n",
       "      <td>3.241379</td>\n",
       "      <td>3.011494</td>\n",
       "    </tr>\n",
       "    <tr>\n",
       "      <th>std</th>\n",
       "      <td>1.623636</td>\n",
       "      <td>1.043174</td>\n",
       "      <td>0.854880</td>\n",
       "      <td>1.125035</td>\n",
       "      <td>1.400634</td>\n",
       "      <td>1.175578</td>\n",
       "      <td>1.367609</td>\n",
       "      <td>1.297809</td>\n",
       "      <td>1.405682</td>\n",
       "      <td>1.385089</td>\n",
       "    </tr>\n",
       "    <tr>\n",
       "      <th>min</th>\n",
       "      <td>17.000000</td>\n",
       "      <td>1.000000</td>\n",
       "      <td>2.000000</td>\n",
       "      <td>1.000000</td>\n",
       "      <td>1.000000</td>\n",
       "      <td>1.000000</td>\n",
       "      <td>1.000000</td>\n",
       "      <td>1.000000</td>\n",
       "      <td>1.000000</td>\n",
       "      <td>1.000000</td>\n",
       "    </tr>\n",
       "    <tr>\n",
       "      <th>25%</th>\n",
       "      <td>19.000000</td>\n",
       "      <td>3.000000</td>\n",
       "      <td>3.000000</td>\n",
       "      <td>3.000000</td>\n",
       "      <td>2.500000</td>\n",
       "      <td>2.000000</td>\n",
       "      <td>2.000000</td>\n",
       "      <td>2.000000</td>\n",
       "      <td>2.000000</td>\n",
       "      <td>2.000000</td>\n",
       "    </tr>\n",
       "    <tr>\n",
       "      <th>50%</th>\n",
       "      <td>20.000000</td>\n",
       "      <td>4.000000</td>\n",
       "      <td>4.000000</td>\n",
       "      <td>4.000000</td>\n",
       "      <td>3.000000</td>\n",
       "      <td>3.000000</td>\n",
       "      <td>3.000000</td>\n",
       "      <td>3.000000</td>\n",
       "      <td>3.000000</td>\n",
       "      <td>3.000000</td>\n",
       "    </tr>\n",
       "    <tr>\n",
       "      <th>75%</th>\n",
       "      <td>21.000000</td>\n",
       "      <td>5.000000</td>\n",
       "      <td>4.500000</td>\n",
       "      <td>5.000000</td>\n",
       "      <td>5.000000</td>\n",
       "      <td>4.000000</td>\n",
       "      <td>4.000000</td>\n",
       "      <td>4.000000</td>\n",
       "      <td>4.500000</td>\n",
       "      <td>4.000000</td>\n",
       "    </tr>\n",
       "    <tr>\n",
       "      <th>max</th>\n",
       "      <td>26.000000</td>\n",
       "      <td>5.000000</td>\n",
       "      <td>5.000000</td>\n",
       "      <td>5.000000</td>\n",
       "      <td>5.000000</td>\n",
       "      <td>5.000000</td>\n",
       "      <td>5.000000</td>\n",
       "      <td>5.000000</td>\n",
       "      <td>5.000000</td>\n",
       "      <td>5.000000</td>\n",
       "    </tr>\n",
       "  </tbody>\n",
       "</table>\n",
       "</div>"
      ],
      "text/plain": [
       "             age  study_satisfaction  academic_workload   academic_pressure  \\\n",
       "count  87.000000           87.000000           87.000000          87.000000   \n",
       "mean   19.942529            3.931034            3.885057           3.781609   \n",
       "std     1.623636            1.043174            0.854880           1.125035   \n",
       "min    17.000000            1.000000            2.000000           1.000000   \n",
       "25%    19.000000            3.000000            3.000000           3.000000   \n",
       "50%    20.000000            4.000000            4.000000           4.000000   \n",
       "75%    21.000000            5.000000            4.500000           5.000000   \n",
       "max    26.000000            5.000000            5.000000           5.000000   \n",
       "\n",
       "       financial_concerns  social_relationships  depression    anxiety  \\\n",
       "count           87.000000             87.000000   87.000000  87.000000   \n",
       "mean             3.390805              2.781609    3.218391   3.218391   \n",
       "std              1.400634              1.175578    1.367609   1.297809   \n",
       "min              1.000000              1.000000    1.000000   1.000000   \n",
       "25%              2.500000              2.000000    2.000000   2.000000   \n",
       "50%              3.000000              3.000000    3.000000   3.000000   \n",
       "75%              5.000000              4.000000    4.000000   4.000000   \n",
       "max              5.000000              5.000000    5.000000   5.000000   \n",
       "\n",
       "       isolation  future_insecurity  \n",
       "count  87.000000          87.000000  \n",
       "mean    3.241379           3.011494  \n",
       "std     1.405682           1.385089  \n",
       "min     1.000000           1.000000  \n",
       "25%     2.000000           2.000000  \n",
       "50%     3.000000           3.000000  \n",
       "75%     4.500000           4.000000  \n",
       "max     5.000000           5.000000  "
      ]
     },
     "execution_count": 4,
     "metadata": {},
     "output_type": "execute_result"
    }
   ],
   "source": [
    "# Untuk Melihat rangkuman data\n",
    "df.describe()"
   ]
  },
  {
   "cell_type": "markdown",
   "metadata": {},
   "source": [
    "### Melihat semua column pada data"
   ]
  },
  {
   "cell_type": "code",
   "execution_count": 5,
   "metadata": {},
   "outputs": [
    {
     "name": "stdout",
     "output_type": "stream",
     "text": [
      "Index(['gender', 'age', 'university', 'degree_level', 'degree_major',\n",
      "       'academic_year', 'cgpa', 'residential_status', 'campus_discrimination',\n",
      "       'sports_engagement', 'average_sleep', 'study_satisfaction',\n",
      "       'academic_workload ', 'academic_pressure', 'financial_concerns',\n",
      "       'social_relationships', 'depression', 'anxiety', 'isolation',\n",
      "       'future_insecurity', 'stress_relief_activities'],\n",
      "      dtype='object')\n"
     ]
    }
   ],
   "source": [
    "# untuk melihat column apa saja dalam data\n",
    "print(df.columns)"
   ]
  },
  {
   "cell_type": "markdown",
   "metadata": {},
   "source": [
    "### Melihat bentuk dari data pada tiap column"
   ]
  },
  {
   "cell_type": "code",
   "execution_count": 6,
   "metadata": {},
   "outputs": [
    {
     "name": "stdout",
     "output_type": "stream",
     "text": [
      "gender                      object\n",
      "age                          int64\n",
      "university                  object\n",
      "degree_level                object\n",
      "degree_major                object\n",
      "academic_year               object\n",
      "cgpa                        object\n",
      "residential_status          object\n",
      "campus_discrimination       object\n",
      "sports_engagement           object\n",
      "average_sleep               object\n",
      "study_satisfaction           int64\n",
      "academic_workload            int64\n",
      "academic_pressure            int64\n",
      "financial_concerns           int64\n",
      "social_relationships         int64\n",
      "depression                   int64\n",
      "anxiety                      int64\n",
      "isolation                    int64\n",
      "future_insecurity            int64\n",
      "stress_relief_activities    object\n",
      "dtype: object\n"
     ]
    }
   ],
   "source": [
    "# untuk melihat bentuk data di column \n",
    "print(df.dtypes)"
   ]
  },
  {
   "cell_type": "markdown",
   "metadata": {},
   "source": []
  },
  {
   "cell_type": "markdown",
   "metadata": {},
   "source": [
    "### melihat data dalam bentuk tabel untuk 5 data pertama"
   ]
  },
  {
   "cell_type": "code",
   "execution_count": 7,
   "metadata": {},
   "outputs": [
    {
     "data": {
      "text/html": [
       "<div>\n",
       "<style scoped>\n",
       "    .dataframe tbody tr th:only-of-type {\n",
       "        vertical-align: middle;\n",
       "    }\n",
       "\n",
       "    .dataframe tbody tr th {\n",
       "        vertical-align: top;\n",
       "    }\n",
       "\n",
       "    .dataframe thead th {\n",
       "        text-align: right;\n",
       "    }\n",
       "</style>\n",
       "<table border=\"1\" class=\"dataframe\">\n",
       "  <thead>\n",
       "    <tr style=\"text-align: right;\">\n",
       "      <th></th>\n",
       "      <th>gender</th>\n",
       "      <th>age</th>\n",
       "      <th>university</th>\n",
       "      <th>degree_level</th>\n",
       "      <th>degree_major</th>\n",
       "      <th>academic_year</th>\n",
       "      <th>cgpa</th>\n",
       "      <th>residential_status</th>\n",
       "      <th>campus_discrimination</th>\n",
       "      <th>sports_engagement</th>\n",
       "      <th>...</th>\n",
       "      <th>study_satisfaction</th>\n",
       "      <th>academic_workload</th>\n",
       "      <th>academic_pressure</th>\n",
       "      <th>financial_concerns</th>\n",
       "      <th>social_relationships</th>\n",
       "      <th>depression</th>\n",
       "      <th>anxiety</th>\n",
       "      <th>isolation</th>\n",
       "      <th>future_insecurity</th>\n",
       "      <th>stress_relief_activities</th>\n",
       "    </tr>\n",
       "  </thead>\n",
       "  <tbody>\n",
       "    <tr>\n",
       "      <th>0</th>\n",
       "      <td>Male</td>\n",
       "      <td>20</td>\n",
       "      <td>PU</td>\n",
       "      <td>Undergraduate</td>\n",
       "      <td>Data Science</td>\n",
       "      <td>2nd year</td>\n",
       "      <td>3.0-3.5</td>\n",
       "      <td>Off-Campus</td>\n",
       "      <td>No</td>\n",
       "      <td>No Sports</td>\n",
       "      <td>...</td>\n",
       "      <td>5</td>\n",
       "      <td>4</td>\n",
       "      <td>5</td>\n",
       "      <td>4</td>\n",
       "      <td>3</td>\n",
       "      <td>2</td>\n",
       "      <td>1</td>\n",
       "      <td>1</td>\n",
       "      <td>2</td>\n",
       "      <td>Religious Activities, Social Connections, Onli...</td>\n",
       "    </tr>\n",
       "    <tr>\n",
       "      <th>1</th>\n",
       "      <td>Male</td>\n",
       "      <td>20</td>\n",
       "      <td>UET</td>\n",
       "      <td>Postgraduate</td>\n",
       "      <td>Computer Science</td>\n",
       "      <td>3rd year</td>\n",
       "      <td>3.0-3.5</td>\n",
       "      <td>Off-Campus</td>\n",
       "      <td>No</td>\n",
       "      <td>1-3 times</td>\n",
       "      <td>...</td>\n",
       "      <td>5</td>\n",
       "      <td>4</td>\n",
       "      <td>4</td>\n",
       "      <td>1</td>\n",
       "      <td>3</td>\n",
       "      <td>3</td>\n",
       "      <td>3</td>\n",
       "      <td>3</td>\n",
       "      <td>4</td>\n",
       "      <td>Online Entertainment</td>\n",
       "    </tr>\n",
       "    <tr>\n",
       "      <th>2</th>\n",
       "      <td>Male</td>\n",
       "      <td>20</td>\n",
       "      <td>FAST</td>\n",
       "      <td>Undergraduate</td>\n",
       "      <td>Computer Science</td>\n",
       "      <td>3rd year</td>\n",
       "      <td>2.5-3.0</td>\n",
       "      <td>Off-Campus</td>\n",
       "      <td>No</td>\n",
       "      <td>1-3 times</td>\n",
       "      <td>...</td>\n",
       "      <td>5</td>\n",
       "      <td>5</td>\n",
       "      <td>5</td>\n",
       "      <td>3</td>\n",
       "      <td>4</td>\n",
       "      <td>2</td>\n",
       "      <td>3</td>\n",
       "      <td>3</td>\n",
       "      <td>1</td>\n",
       "      <td>Religious Activities, Sports and Fitness, Onli...</td>\n",
       "    </tr>\n",
       "    <tr>\n",
       "      <th>3</th>\n",
       "      <td>Male</td>\n",
       "      <td>20</td>\n",
       "      <td>UET</td>\n",
       "      <td>Undergraduate</td>\n",
       "      <td>Computer Science</td>\n",
       "      <td>3rd year</td>\n",
       "      <td>2.5-3.0</td>\n",
       "      <td>On-Campus</td>\n",
       "      <td>No</td>\n",
       "      <td>No Sports</td>\n",
       "      <td>...</td>\n",
       "      <td>3</td>\n",
       "      <td>5</td>\n",
       "      <td>4</td>\n",
       "      <td>4</td>\n",
       "      <td>1</td>\n",
       "      <td>5</td>\n",
       "      <td>5</td>\n",
       "      <td>5</td>\n",
       "      <td>3</td>\n",
       "      <td>Online Entertainment</td>\n",
       "    </tr>\n",
       "    <tr>\n",
       "      <th>4</th>\n",
       "      <td>Female</td>\n",
       "      <td>20</td>\n",
       "      <td>UET</td>\n",
       "      <td>Undergraduate</td>\n",
       "      <td>Computer Science</td>\n",
       "      <td>3rd year</td>\n",
       "      <td>3.0-3.5</td>\n",
       "      <td>Off-Campus</td>\n",
       "      <td>Yes</td>\n",
       "      <td>No Sports</td>\n",
       "      <td>...</td>\n",
       "      <td>3</td>\n",
       "      <td>5</td>\n",
       "      <td>5</td>\n",
       "      <td>2</td>\n",
       "      <td>3</td>\n",
       "      <td>5</td>\n",
       "      <td>5</td>\n",
       "      <td>4</td>\n",
       "      <td>4</td>\n",
       "      <td>Online Entertainment</td>\n",
       "    </tr>\n",
       "  </tbody>\n",
       "</table>\n",
       "<p>5 rows × 21 columns</p>\n",
       "</div>"
      ],
      "text/plain": [
       "   gender  age university   degree_level      degree_major academic_year  \\\n",
       "0    Male   20         PU  Undergraduate      Data Science      2nd year   \n",
       "1    Male   20        UET   Postgraduate  Computer Science      3rd year   \n",
       "2    Male   20       FAST  Undergraduate  Computer Science      3rd year   \n",
       "3    Male   20        UET  Undergraduate  Computer Science      3rd year   \n",
       "4  Female   20        UET  Undergraduate  Computer Science      3rd year   \n",
       "\n",
       "      cgpa residential_status campus_discrimination sports_engagement  ...  \\\n",
       "0  3.0-3.5         Off-Campus                    No         No Sports  ...   \n",
       "1  3.0-3.5         Off-Campus                    No         1-3 times  ...   \n",
       "2  2.5-3.0         Off-Campus                    No         1-3 times  ...   \n",
       "3  2.5-3.0          On-Campus                    No         No Sports  ...   \n",
       "4  3.0-3.5         Off-Campus                   Yes         No Sports  ...   \n",
       "\n",
       "  study_satisfaction  academic_workload   academic_pressure  \\\n",
       "0                  5                   4                  5   \n",
       "1                  5                   4                  4   \n",
       "2                  5                   5                  5   \n",
       "3                  3                   5                  4   \n",
       "4                  3                   5                  5   \n",
       "\n",
       "   financial_concerns  social_relationships  depression  anxiety  isolation  \\\n",
       "0                   4                     3           2        1          1   \n",
       "1                   1                     3           3        3          3   \n",
       "2                   3                     4           2        3          3   \n",
       "3                   4                     1           5        5          5   \n",
       "4                   2                     3           5        5          4   \n",
       "\n",
       "   future_insecurity                           stress_relief_activities  \n",
       "0                  2  Religious Activities, Social Connections, Onli...  \n",
       "1                  4                               Online Entertainment  \n",
       "2                  1  Religious Activities, Sports and Fitness, Onli...  \n",
       "3                  3                               Online Entertainment  \n",
       "4                  4                               Online Entertainment  \n",
       "\n",
       "[5 rows x 21 columns]"
      ]
     },
     "execution_count": 7,
     "metadata": {},
     "output_type": "execute_result"
    }
   ],
   "source": [
    "# tampilan data dalam tabel\n",
    "df.head()"
   ]
  },
  {
   "cell_type": "markdown",
   "metadata": {},
   "source": [
    "## Data Cleaning"
   ]
  },
  {
   "cell_type": "markdown",
   "metadata": {},
   "source": [
    "###  merubah column cgpa agar dapat bisa dihitung"
   ]
  },
  {
   "cell_type": "code",
   "execution_count": 8,
   "metadata": {},
   "outputs": [
    {
     "name": "stdout",
     "output_type": "stream",
     "text": [
      "['3.0-3.5' '2.5-3.0' '3.5-4.0' '1.5-2.0' '2.0-2.5' '0.0-0.0']\n"
     ]
    }
   ],
   "source": [
    "print(df['cgpa'].unique())\n"
   ]
  },
  {
   "cell_type": "code",
   "execution_count": 9,
   "metadata": {},
   "outputs": [],
   "source": [
    "# membuat value untuk kolom baru average_gpa\n",
    "def assign_broader_category(cgpa): \n",
    "    A_Students = ['3.5-4.0']\n",
    "    B_Students = ['3.0-3.5']\n",
    "    C_Students = ['2.5-3.0']\n",
    "    D_Students = ['2.0-2.5']\n",
    "    E_Students = ['1.5-2.0']\n",
    "    F_Students = ['0.0-0.0']\n",
    "    if cgpa in A_Students:\n",
    "        return \"3.75\"\n",
    "    elif cgpa in B_Students:\n",
    "        return \"3.25\"\n",
    "    elif cgpa in C_Students:\n",
    "        return \"2.75\"\n",
    "    elif cgpa in D_Students:\n",
    "        return \"2.25\"\n",
    "    elif cgpa in E_Students:\n",
    "        return \"1.75\"\n",
    "    else:\n",
    "        return \"0\""
   ]
  },
  {
   "cell_type": "code",
   "execution_count": 10,
   "metadata": {},
   "outputs": [],
   "source": [
    "# memasukkan kolom average_gpa ke dataframe\n",
    "df['average_gpa'] = df['cgpa'].apply(assign_broader_category)"
   ]
  },
  {
   "cell_type": "code",
   "execution_count": 11,
   "metadata": {},
   "outputs": [],
   "source": [
    "# merubah data pada average gpa menjadi float\n",
    "df['average_gpa'] = df['average_gpa'].astype(float)"
   ]
  },
  {
   "cell_type": "code",
   "execution_count": 12,
   "metadata": {},
   "outputs": [
    {
     "data": {
      "text/plain": [
       "dtype('float64')"
      ]
     },
     "execution_count": 12,
     "metadata": {},
     "output_type": "execute_result"
    }
   ],
   "source": [
    "# berikut bentuk tipe data average gpa setelah diubah\n",
    "df.average_gpa.dtypes"
   ]
  },
  {
   "cell_type": "code",
   "execution_count": 13,
   "metadata": {},
   "outputs": [
    {
     "data": {
      "text/html": [
       "<div>\n",
       "<style scoped>\n",
       "    .dataframe tbody tr th:only-of-type {\n",
       "        vertical-align: middle;\n",
       "    }\n",
       "\n",
       "    .dataframe tbody tr th {\n",
       "        vertical-align: top;\n",
       "    }\n",
       "\n",
       "    .dataframe thead th {\n",
       "        text-align: right;\n",
       "    }\n",
       "</style>\n",
       "<table border=\"1\" class=\"dataframe\">\n",
       "  <thead>\n",
       "    <tr style=\"text-align: right;\">\n",
       "      <th></th>\n",
       "      <th>average_gpa</th>\n",
       "    </tr>\n",
       "  </thead>\n",
       "  <tbody>\n",
       "    <tr>\n",
       "      <th>0</th>\n",
       "      <td>3.25</td>\n",
       "    </tr>\n",
       "    <tr>\n",
       "      <th>1</th>\n",
       "      <td>3.25</td>\n",
       "    </tr>\n",
       "    <tr>\n",
       "      <th>2</th>\n",
       "      <td>2.75</td>\n",
       "    </tr>\n",
       "    <tr>\n",
       "      <th>3</th>\n",
       "      <td>2.75</td>\n",
       "    </tr>\n",
       "    <tr>\n",
       "      <th>4</th>\n",
       "      <td>3.25</td>\n",
       "    </tr>\n",
       "    <tr>\n",
       "      <th>...</th>\n",
       "      <td>...</td>\n",
       "    </tr>\n",
       "    <tr>\n",
       "      <th>82</th>\n",
       "      <td>3.25</td>\n",
       "    </tr>\n",
       "    <tr>\n",
       "      <th>83</th>\n",
       "      <td>3.75</td>\n",
       "    </tr>\n",
       "    <tr>\n",
       "      <th>84</th>\n",
       "      <td>2.25</td>\n",
       "    </tr>\n",
       "    <tr>\n",
       "      <th>85</th>\n",
       "      <td>2.75</td>\n",
       "    </tr>\n",
       "    <tr>\n",
       "      <th>86</th>\n",
       "      <td>3.75</td>\n",
       "    </tr>\n",
       "  </tbody>\n",
       "</table>\n",
       "<p>87 rows × 1 columns</p>\n",
       "</div>"
      ],
      "text/plain": [
       "    average_gpa\n",
       "0          3.25\n",
       "1          3.25\n",
       "2          2.75\n",
       "3          2.75\n",
       "4          3.25\n",
       "..          ...\n",
       "82         3.25\n",
       "83         3.75\n",
       "84         2.25\n",
       "85         2.75\n",
       "86         3.75\n",
       "\n",
       "[87 rows x 1 columns]"
      ]
     },
     "execution_count": 13,
     "metadata": {},
     "output_type": "execute_result"
    }
   ],
   "source": [
    "# berikut merupakan column average gpa setelah ditambahkan ke dataframe\n",
    "df[['average_gpa']]"
   ]
  },
  {
   "cell_type": "markdown",
   "metadata": {},
   "source": [
    "#### average_gpa sudah berubah menjadi float agar bisa dihitung"
   ]
  },
  {
   "cell_type": "code",
   "execution_count": 14,
   "metadata": {},
   "outputs": [
    {
     "name": "stdout",
     "output_type": "stream",
     "text": [
      "['4-6 hrs' '2-4 hrs' '7-8 hrs']\n"
     ]
    }
   ],
   "source": [
    "print(df['average_sleep'].unique())\n"
   ]
  },
  {
   "cell_type": "markdown",
   "metadata": {},
   "source": [
    "### merubah value average_sleep agar lebih sesuai"
   ]
  },
  {
   "cell_type": "markdown",
   "metadata": {},
   "source": [
    "### ubah kategorisasi menjadi lebih sesuai"
   ]
  },
  {
   "cell_type": "code",
   "execution_count": 15,
   "metadata": {},
   "outputs": [],
   "source": [
    "# value sebelum dan sesudah\n",
    "replacement_dict = {\n",
    "    '4-6 hrs': '5',\n",
    "    '2-4 hrs': '3',\n",
    "    '7-8 hrs': '7.5'\n",
    "}\n",
    "\n",
    "# merubah value di avarage sleep agar dapat dihitung\n",
    "df['average_sleep'] = df['average_sleep'].replace(replacement_dict)\n",
    "\n",
    "# merubah tipe column menjadi float\n",
    "df['average_sleep'] = df['average_sleep'].astype(float)"
   ]
  },
  {
   "cell_type": "code",
   "execution_count": 16,
   "metadata": {},
   "outputs": [
    {
     "name": "stdout",
     "output_type": "stream",
     "text": [
      "[5.  3.  7.5]\n"
     ]
    }
   ],
   "source": [
    "print(df['average_sleep'].unique())\n"
   ]
  },
  {
   "cell_type": "markdown",
   "metadata": {},
   "source": [
    "### rename column agar lebih sesuai"
   ]
  },
  {
   "cell_type": "code",
   "execution_count": 17,
   "metadata": {},
   "outputs": [],
   "source": [
    "df.rename(columns={'average_sleep': 'average_sleep_hours'}, inplace=True)\n"
   ]
  },
  {
   "cell_type": "markdown",
   "metadata": {},
   "source": [
    "### Menghapus kolom cgpa karena sudah ada kolom average gpa"
   ]
  },
  {
   "cell_type": "code",
   "execution_count": 18,
   "metadata": {},
   "outputs": [],
   "source": [
    "# menghapus kolom cgpa\n",
    "df.drop(columns=['cgpa'], inplace=True)"
   ]
  },
  {
   "cell_type": "code",
   "execution_count": 19,
   "metadata": {},
   "outputs": [
    {
     "name": "stdout",
     "output_type": "stream",
     "text": [
      "Index(['gender', 'age', 'university', 'degree_level', 'degree_major',\n",
      "       'academic_year', 'residential_status', 'campus_discrimination',\n",
      "       'sports_engagement', 'average_sleep_hours', 'study_satisfaction',\n",
      "       'academic_workload ', 'academic_pressure', 'financial_concerns',\n",
      "       'social_relationships', 'depression', 'anxiety', 'isolation',\n",
      "       'future_insecurity', 'stress_relief_activities', 'average_gpa'],\n",
      "      dtype='object')\n"
     ]
    }
   ],
   "source": [
    "print(df.columns)"
   ]
  },
  {
   "cell_type": "code",
   "execution_count": 20,
   "metadata": {},
   "outputs": [],
   "source": [
    "# Untuk Menghilangkan whitespace dalam kolom\n",
    "df.columns = df.columns.str.strip()\n"
   ]
  },
  {
   "cell_type": "code",
   "execution_count": 21,
   "metadata": {},
   "outputs": [
    {
     "name": "stdout",
     "output_type": "stream",
     "text": [
      "Index(['gender', 'age', 'university', 'degree_level', 'degree_major',\n",
      "       'academic_year', 'residential_status', 'campus_discrimination',\n",
      "       'sports_engagement', 'average_sleep_hours', 'study_satisfaction',\n",
      "       'academic_workload', 'academic_pressure', 'financial_concerns',\n",
      "       'social_relationships', 'depression', 'anxiety', 'isolation',\n",
      "       'future_insecurity', 'stress_relief_activities', 'average_gpa'],\n",
      "      dtype='object')\n"
     ]
    }
   ],
   "source": [
    "print(df.columns)"
   ]
  },
  {
   "cell_type": "code",
   "execution_count": 22,
   "metadata": {},
   "outputs": [
    {
     "name": "stdout",
     "output_type": "stream",
     "text": [
      "gender                      0\n",
      "age                         0\n",
      "university                  0\n",
      "degree_level                0\n",
      "degree_major                0\n",
      "academic_year               0\n",
      "residential_status          0\n",
      "campus_discrimination       0\n",
      "sports_engagement           0\n",
      "average_sleep_hours         0\n",
      "study_satisfaction          0\n",
      "academic_workload           0\n",
      "academic_pressure           0\n",
      "financial_concerns          0\n",
      "social_relationships        0\n",
      "depression                  0\n",
      "anxiety                     0\n",
      "isolation                   0\n",
      "future_insecurity           0\n",
      "stress_relief_activities    0\n",
      "average_gpa                 0\n",
      "dtype: int64\n"
     ]
    }
   ],
   "source": [
    "# untuk mengetahui apakah ada missing value\n",
    "print(df.isna().sum())"
   ]
  },
  {
   "cell_type": "markdown",
   "metadata": {},
   "source": [
    "### mengetahui value apa saja yang di sports_engagement"
   ]
  },
  {
   "cell_type": "code",
   "execution_count": 23,
   "metadata": {},
   "outputs": [
    {
     "name": "stdout",
     "output_type": "stream",
     "text": [
      "['No Sports' '1-3 times' '7+ times' '4-6 times']\n"
     ]
    }
   ],
   "source": [
    "print(df['sports_engagement'].unique())"
   ]
  },
  {
   "cell_type": "markdown",
   "metadata": {},
   "source": [
    "### merubah value di sports_engagement agar lebih mudah diolah"
   ]
  },
  {
   "cell_type": "code",
   "execution_count": 24,
   "metadata": {},
   "outputs": [],
   "source": [
    "# value sebelum dan sesudah\n",
    "replacement_dict = {\n",
    "    'No Sports': 'None',\n",
    "    '1-3 times': 'Low',\n",
    "    '4-6 times': 'Medium',\n",
    "    '7+ times': 'High'\n",
    "}\n",
    "\n",
    "# merubah value sports_engagement\n",
    "df['sports_engagement'] = df['sports_engagement'].replace(replacement_dict)"
   ]
  },
  {
   "cell_type": "markdown",
   "metadata": {},
   "source": [
    "### data yang sudah diubah"
   ]
  },
  {
   "cell_type": "code",
   "execution_count": 25,
   "metadata": {},
   "outputs": [
    {
     "name": "stdout",
     "output_type": "stream",
     "text": [
      "['None' 'Low' 'High' 'Medium']\n"
     ]
    }
   ],
   "source": [
    "print(df['sports_engagement'].unique())"
   ]
  },
  {
   "cell_type": "code",
   "execution_count": 26,
   "metadata": {},
   "outputs": [
    {
     "name": "stdout",
     "output_type": "stream",
     "text": [
      "file baru disimpan.\n"
     ]
    }
   ],
   "source": [
    "# Overwrite the CSV file\n",
    "df.to_csv('MentalHealthSurvey(clean).csv', index=False)\n",
    "\n",
    "print(\"file baru disimpan.\")"
   ]
  },
  {
   "cell_type": "markdown",
   "metadata": {},
   "source": [
    "## Analisa dan Perhitungan"
   ]
  },
  {
   "cell_type": "code",
   "execution_count": 27,
   "metadata": {},
   "outputs": [],
   "source": [
    "df_2 = pd.read_csv('MentalHealthSurvey(clean).csv')"
   ]
  },
  {
   "cell_type": "markdown",
   "metadata": {},
   "source": [
    "### Problem 1. Bagaimana distribusi kondisi kesehatan mental seperti depresi berdasarkan gender?"
   ]
  },
  {
   "cell_type": "code",
   "execution_count": 28,
   "metadata": {},
   "outputs": [
    {
     "name": "stdout",
     "output_type": "stream",
     "text": [
      "gender\n",
      "Male      63\n",
      "Female    24\n",
      "Name: count, dtype: int64\n"
     ]
    }
   ],
   "source": [
    "gender_counts = df_2['gender'].value_counts()\n",
    "\n",
    "# menunjukkan total mahasiswa dan mahasiswi\n",
    "print(gender_counts)"
   ]
  },
  {
   "cell_type": "code",
   "execution_count": 29,
   "metadata": {},
   "outputs": [
    {
     "name": "stdout",
     "output_type": "stream",
     "text": [
      "   gender  depression  count\n",
      "0  Female           1      4\n",
      "1  Female           2      1\n",
      "2  Female           3      3\n",
      "3  Female           4      9\n",
      "4  Female           5      7\n",
      "5    Male           1      9\n",
      "6    Male           2     13\n",
      "7    Male           3     18\n",
      "8    Male           4     10\n",
      "9    Male           5     13\n"
     ]
    }
   ],
   "source": [
    "# Menghitung banyaknya mahasiswa dan membandingkan dari tingkat depresi dan gender\n",
    "distribusi_depresi = df_2.groupby(['gender', 'depression']).size().reset_index(name='count')\n",
    "\n",
    "# menunjukkan data di grup\n",
    "print(distribusi_depresi)"
   ]
  },
  {
   "cell_type": "code",
   "execution_count": 30,
   "metadata": {},
   "outputs": [
    {
     "data": {
      "image/png": "[encoded data removed]",
      "text/plain": [
       "<Figure size 1000x600 with 1 Axes>"
      ]
     },
     "metadata": {},
     "output_type": "display_data"
    }
   ],
   "source": [
    "# untuk visualisasi data terkait perbandingan tingkat depresi berdasarkan gender \n",
    "plt.figure(figsize=(10, 6))\n",
    "sns.barplot(data=distribusi_depresi, x='depression', y='count', hue='gender', palette='coolwarm')\n",
    "plt.title('Distribution of Depression Levels by Gender')\n",
    "plt.xlabel('Depression Level')\n",
    "plt.ylabel('Count')\n",
    "plt.show()"
   ]
  },
  {
   "cell_type": "markdown",
   "metadata": {},
   "source": [
    "#### dari data tersebut, mahasiswa paling banyak berada di tingkat depresi 3 sedangkan untuk mahasiswi di tingkat depresi 4"
   ]
  },
  {
   "cell_type": "markdown",
   "metadata": {},
   "source": [
    "### Problem 2. Bagaimana hubungan antara tahun kuliah (academic_year) dengan beban akademik (academic_workload)"
   ]
  },
  {
   "cell_type": "code",
   "execution_count": 31,
   "metadata": {},
   "outputs": [
    {
     "data": {
      "image/png": "[encoded data removed]",
      "text/plain": [
       "<Figure size 800x600 with 1 Axes>"
      ]
     },
     "metadata": {},
     "output_type": "display_data"
    }
   ],
   "source": [
    "# Menghitung rata-rata beban akademik untuk setiap tahun kuliah\n",
    "average_workload = df_2.groupby('academic_year')['academic_workload'].mean()\n",
    "\n",
    "# Membuat plot bar chart\n",
    "plt.figure(figsize=(8, 6))\n",
    "plt.bar(average_workload.index, average_workload.values, color='b', alpha=0.7)\n",
    "\n",
    "# Menambahkan judul dan label\n",
    "plt.title('Rata-rata Beban Akademik Berdasarkan Tahun Kuliah')\n",
    "plt.xlabel('Tahun Kuliah')\n",
    "plt.ylabel('Rata-rata Beban Akademik')\n",
    "plt.grid(axis='y')  # Menambahkan grid horizontal untuk mempermudah pembacaan\n",
    "\n",
    "# Menampilkan plot\n",
    "plt.show()\n"
   ]
  },
  {
   "cell_type": "markdown",
   "metadata": {},
   "source": [
    "#### dari data tersebut didapatkan bahwa tidak adanya hubungan antara banyak atau sedikitnya beban akademik terhadap tahun kuliah mahasiswa/mahasiswi"
   ]
  },
  {
   "cell_type": "markdown",
   "metadata": {},
   "source": [
    "### Problem 3. Apakah ada hubungan antara rata-rata jam tidur dengan rata-rata nilai akademik "
   ]
  },
  {
   "cell_type": "code",
   "execution_count": 32,
   "metadata": {},
   "outputs": [
    {
     "data": {
      "image/png": "[encoded data removed]",
      "text/plain": [
       "<Figure size 1000x600 with 1 Axes>"
      ]
     },
     "metadata": {},
     "output_type": "display_data"
    }
   ],
   "source": [
    "# Scatter plot untuk menunjukkan hubungan antara rata-rata jam tidur dan rata-rata ipk\n",
    "plt.figure(figsize=(10, 6))\n",
    "sns.scatterplot(data=df_2, x='average_sleep_hours', y='average_gpa', hue='average_gpa', palette='coolwarm', size='average_gpa', sizes=(20, 200))\n",
    "plt.title('Relationship Between Average Sleep Duration and GPA')\n",
    "plt.xlabel('Average Sleep Hours')\n",
    "plt.ylabel('Average GPA')\n",
    "plt.show()"
   ]
  },
  {
   "cell_type": "markdown",
   "metadata": {},
   "source": [
    "#### didapatkan dari data bahwa tidak ada hubungan signfikan dari jam tidur dengan nilai ipk yang berarti durasi jam tidur tidak terlalu mempengaruhi nilai"
   ]
  },
  {
   "cell_type": "markdown",
   "metadata": {},
   "source": [
    "### Problem 4. Bagaimana masalah keuangan mempengaruhi nilai akademik"
   ]
  },
  {
   "cell_type": "code",
   "execution_count": 33,
   "metadata": {},
   "outputs": [
    {
     "data": {
      "image/png": "[encoded data removed]",
      "text/plain": [
       "<Figure size 1000x600 with 1 Axes>"
      ]
     },
     "metadata": {},
     "output_type": "display_data"
    }
   ],
   "source": [
    "# Stacked bar chart untuk hubungan antara masalah keuangan dengan nilai ipk\n",
    "financial_gpa = pd.crosstab(df_2['average_gpa'], df_2['financial_concerns'])\n",
    "financial_gpa.plot(kind='bar', stacked=True, color=['mistyrose', 'salmon', 'tomato','orangered', 'red'  ], figsize=(10, 6))\n",
    "plt.title('Dampak Finansial pada Nilai Akademik')\n",
    "plt.xlabel('Average GPA')\n",
    "plt.ylabel('Count')\n",
    "plt.show()\n"
   ]
  },
  {
   "cell_type": "markdown",
   "metadata": {},
   "source": [
    "#### dari data diatas, didapatkan bahwa mahasiswa/mahasiswi dengann masalah finansial lebih termotivasi untuk belajar dan nilai tinggi karena masalah finansial tingkat 4 dan 5 paling banyak di ipk rata-rata 3.75"
   ]
  },
  {
   "cell_type": "markdown",
   "metadata": {},
   "source": [
    "#### Jurnal Pendukung: https://seminar.uad.ac.id/index.php/PSNBK/article/view/13612"
   ]
  },
  {
   "cell_type": "markdown",
   "metadata": {},
   "source": [
    "### Problem 5. Apakah  jurusan mempengaruhi tingkat insekuritas masa depan??"
   ]
  },
  {
   "cell_type": "code",
   "execution_count": 34,
   "metadata": {},
   "outputs": [
    {
     "data": {
      "text/html": [
       "<div>\n",
       "<style scoped>\n",
       "    .dataframe tbody tr th:only-of-type {\n",
       "        vertical-align: middle;\n",
       "    }\n",
       "\n",
       "    .dataframe tbody tr th {\n",
       "        vertical-align: top;\n",
       "    }\n",
       "\n",
       "    .dataframe thead tr th {\n",
       "        text-align: left;\n",
       "    }\n",
       "\n",
       "    .dataframe thead tr:last-of-type th {\n",
       "        text-align: right;\n",
       "    }\n",
       "</style>\n",
       "<table border=\"1\" class=\"dataframe\">\n",
       "  <thead>\n",
       "    <tr>\n",
       "      <th></th>\n",
       "      <th colspan=\"8\" halign=\"left\">future_insecurity</th>\n",
       "    </tr>\n",
       "    <tr>\n",
       "      <th></th>\n",
       "      <th>count</th>\n",
       "      <th>mean</th>\n",
       "      <th>std</th>\n",
       "      <th>min</th>\n",
       "      <th>25%</th>\n",
       "      <th>50%</th>\n",
       "      <th>75%</th>\n",
       "      <th>max</th>\n",
       "    </tr>\n",
       "    <tr>\n",
       "      <th>degree_major</th>\n",
       "      <th></th>\n",
       "      <th></th>\n",
       "      <th></th>\n",
       "      <th></th>\n",
       "      <th></th>\n",
       "      <th></th>\n",
       "      <th></th>\n",
       "      <th></th>\n",
       "    </tr>\n",
       "  </thead>\n",
       "  <tbody>\n",
       "    <tr>\n",
       "      <th>Computer Science</th>\n",
       "      <td>34.0</td>\n",
       "      <td>3.411765</td>\n",
       "      <td>1.233808</td>\n",
       "      <td>1.0</td>\n",
       "      <td>3.0</td>\n",
       "      <td>3.0</td>\n",
       "      <td>4.0</td>\n",
       "      <td>5.0</td>\n",
       "    </tr>\n",
       "    <tr>\n",
       "      <th>Data Science</th>\n",
       "      <td>41.0</td>\n",
       "      <td>2.707317</td>\n",
       "      <td>1.382821</td>\n",
       "      <td>1.0</td>\n",
       "      <td>2.0</td>\n",
       "      <td>3.0</td>\n",
       "      <td>4.0</td>\n",
       "      <td>5.0</td>\n",
       "    </tr>\n",
       "    <tr>\n",
       "      <th>Information Technology</th>\n",
       "      <td>9.0</td>\n",
       "      <td>2.666667</td>\n",
       "      <td>1.414214</td>\n",
       "      <td>1.0</td>\n",
       "      <td>2.0</td>\n",
       "      <td>2.0</td>\n",
       "      <td>4.0</td>\n",
       "      <td>5.0</td>\n",
       "    </tr>\n",
       "    <tr>\n",
       "      <th>Software Engineering</th>\n",
       "      <td>3.0</td>\n",
       "      <td>3.666667</td>\n",
       "      <td>2.309401</td>\n",
       "      <td>1.0</td>\n",
       "      <td>3.0</td>\n",
       "      <td>5.0</td>\n",
       "      <td>5.0</td>\n",
       "      <td>5.0</td>\n",
       "    </tr>\n",
       "  </tbody>\n",
       "</table>\n",
       "</div>"
      ],
      "text/plain": [
       "                       future_insecurity                                     \\\n",
       "                                   count      mean       std  min  25%  50%   \n",
       "degree_major                                                                  \n",
       "Computer Science                    34.0  3.411765  1.233808  1.0  3.0  3.0   \n",
       "Data Science                        41.0  2.707317  1.382821  1.0  2.0  3.0   \n",
       "Information Technology               9.0  2.666667  1.414214  1.0  2.0  2.0   \n",
       "Software Engineering                 3.0  3.666667  2.309401  1.0  3.0  5.0   \n",
       "\n",
       "                                  \n",
       "                        75%  max  \n",
       "degree_major                      \n",
       "Computer Science        4.0  5.0  \n",
       "Data Science            4.0  5.0  \n",
       "Information Technology  4.0  5.0  \n",
       "Software Engineering    5.0  5.0  "
      ]
     },
     "execution_count": 34,
     "metadata": {},
     "output_type": "execute_result"
    }
   ],
   "source": [
    "# Statistik deskriptif untuk insekuritas masa depan berdasarkan jurusan\n",
    "stats_by_jurusan = df_2.groupby('degree_major')[['future_insecurity']].describe()\n",
    "\n",
    "stats_by_jurusan\n"
   ]
  },
  {
   "cell_type": "markdown",
   "metadata": {},
   "source": [
    "#### Dari data, didapatkan bahwa rata-rata tingkat insekuritas tertinggi ada pada mahasiswa/mahasiswi yang berada pada di jurusan software engineering dan terendah ada pada jurusan information technology"
   ]
  },
  {
   "cell_type": "markdown",
   "metadata": {},
   "source": [
    "### Problem 6. Adakah korelasi antara umur dengan tingkat insekuritas masa depan?"
   ]
  },
  {
   "cell_type": "code",
   "execution_count": 35,
   "metadata": {},
   "outputs": [
    {
     "name": "stdout",
     "output_type": "stream",
     "text": [
      "Spearman Correlation: 0.10526078645822469, p-value = 0.3318941983097501\n"
     ]
    }
   ],
   "source": [
    "# Correlation Analysis untuk melihat adakah korelasi antara umur dengan insekuritas masa depan\n",
    "# (H0): tidak adanya korelasi antara umur dan insekuritas mada depan\n",
    "# (H1): adanya korelasi antara umur dan insekuritas mada depan\n",
    "correlation, p_value = stats.spearmanr(df_2['age'], df_2['future_insecurity'])\n",
    "print(f\"Spearman Correlation: {correlation}, p-value = {p_value}\")\n",
    "\n",
    "# jika p-value < 0.05, maka ada korelasi antara umur dan insekuritas mada depan"
   ]
  },
  {
   "cell_type": "markdown",
   "metadata": {},
   "source": [
    "#### dari data, didapatkan bahwa tidak adanya korelasi antara umur dan insekuritas masa depan yang berarti merasa insecure terhadap masa depan tidak dipengaruhi dengan umur, bisa saja di umur 19 tahun memiliki insekuritas masa depan yang tinggi atau sebaliknya"
   ]
  },
  {
   "cell_type": "markdown",
   "metadata": {},
   "source": [
    "### Problem 7. Apakah aktivitas olahraga (sports_engagement) secara signifikan mempengaruhi tingkat depresi mahasiswa?"
   ]
  },
  {
   "cell_type": "code",
   "execution_count": 36,
   "metadata": {},
   "outputs": [
    {
     "name": "stdout",
     "output_type": "stream",
     "text": [
      "T-statistic: -1.8958, P-value: 0.0644\n",
      "Tidak adanya Perbedaan tingkat depresi yang signifikan antara mahasiswa/mahasiswi dengan aktifitas olahraga low to none dan moderate to high sports.\n"
     ]
    }
   ],
   "source": [
    "\n",
    "# Klasifikasi baru untuk tingkat depresi\n",
    "df_2['depression_category'] = df_2['depression'].apply(lambda x: 'Low to Medium' if x <= 3 else 'High to Severe')\n",
    "\n",
    "# Klasifikasi baru untuk value di aktivitas olahraga\n",
    "df_2['sports_engagement_category'] = df_2['sports_engagement'].apply(lambda x: 'Low to None' if x in ['No Sports', 'Low'] else 'Moderate to High')\n",
    "\n",
    "# mengubah kategori depresi menjadi numeric simple\n",
    "df_2['depression_numeric'] = df_2['depression_category'].map({'Low to Medium': 0, 'High to Severe': 1})\n",
    "\n",
    "# membagi group berdasarkan kategori aktivitas olahraga\n",
    "low_none = df_2[df_2['sports_engagement_category'] == 'Low to None']['depression_numeric']\n",
    "moderate_high = df_2[df_2['sports_engagement_category'] == 'Moderate to High']['depression_numeric']\n",
    "\n",
    "# t-test\n",
    "t_stat, p_value = stats.ttest_ind(low_none, moderate_high, equal_var=False)\n",
    "\n",
    "# hasil t-test\n",
    "print(f\"T-statistic: {t_stat:.4f}, P-value: {p_value:.4f}\")\n",
    "\n",
    "if p_value < 0.05:\n",
    "    print(\"Ada Perbedaan tingkat depresi yang signifikan antara mahasiswa/mahasiswi dengan aktifitas olahraga low to none dan moderate to high sports.\")\n",
    "else:\n",
    "    print(\"Tidak adanya Perbedaan tingkat depresi yang signifikan antara mahasiswa/mahasiswi dengan aktifitas olahraga low to none dan moderate to high sports.\")\n",
    "\n"
   ]
  },
  {
   "cell_type": "markdown",
   "metadata": {},
   "source": [
    "#### dikarenakan P-Value > 0.05, maka Tidak adanya Perbedaan tingkat depresi yang signifikan antara mahasiswa/mahasiswi dengan aktifitas olahraga low to none dan moderate to high sports. yang berarti olahraga tidak terlalu signifikan dalam membantu tinggi rendah nya depresi\n"
   ]
  },
  {
   "cell_type": "markdown",
   "metadata": {},
   "source": [
    "### Problem 8. Apakah tingkat hubungan sosial berhubungan dengan tingkat depresi?\n"
   ]
  },
  {
   "cell_type": "code",
   "execution_count": 37,
   "metadata": {},
   "outputs": [
    {
     "data": {
      "image/png": "[encoded data removed]",
      "text/plain": [
       "<Figure size 1000x600 with 1 Axes>"
      ]
     },
     "metadata": {},
     "output_type": "display_data"
    }
   ],
   "source": [
    "# Stacked bar chart untuk hubungan antara masalah keuangan dengan nilai ipk\n",
    "financial_gpa = pd.crosstab(df_2['social_relationships'], df_2['depression'])\n",
    "financial_gpa.plot(kind='bar', stacked=True, color=['mistyrose', 'salmon', 'tomato','orangered', 'red'  ], figsize=(10, 6))\n",
    "plt.title('Dampak hubungan sosial pada tingkat depresi')\n",
    "plt.xlabel('social relationships')\n",
    "plt.ylabel('Count')\n",
    "plt.show()"
   ]
  },
  {
   "cell_type": "markdown",
   "metadata": {},
   "source": [
    "#### dari data, didapatkan bahwa hubungan sosial berdampak pada tingkat depresi dengan mahasiswa/mahasiswi dengan tingkat hubungan sosial 5 memiliki tingkat depresi paling sedikit"
   ]
  },
  {
   "cell_type": "markdown",
   "metadata": {},
   "source": [
    "### Problem 9. Aktivitas Stress Relieve apa yang paling banyak dilakukan oleh mahasiswa dan mahasiswi"
   ]
  },
  {
   "cell_type": "code",
   "execution_count": 38,
   "metadata": {},
   "outputs": [
    {
     "name": "stdout",
     "output_type": "stream",
     "text": [
      "  stress_relief_activities  Count\n",
      "0     Religious Activities     46\n",
      "1     Online Entertainment     37\n",
      "2       Social Connections     33\n",
      "3       Sports and Fitness     20\n",
      "4                    Sleep     20\n",
      "5       Outdoor Activities     19\n",
      "6         Creative Outlets     10\n",
      "7                  Nothing      1\n"
     ]
    }
   ],
   "source": [
    "# memisah aktivitas multi yang nyambung dengan satu sama lain menjadi unik\n",
    "activities_split = df_2['stress_relief_activities'].str.split(', ', expand=True).stack()\n",
    "\n",
    "# menghitung frekuensi setiap aktifitas\n",
    "activity_counts = activities_split.value_counts().reset_index()\n",
    "activity_counts.columns = ['stress_relief_activities', 'Count']\n",
    "\n",
    "# menyortir dari banyak ke sedikit\n",
    "activity_counts = activity_counts.sort_values(by='Count', ascending=False)\n",
    "\n",
    "# menunjukkan aktivitas\n",
    "print(activity_counts)"
   ]
  },
  {
   "cell_type": "markdown",
   "metadata": {},
   "source": [
    "#### didapatkan dari data bahwa aktivitas melepas stress yang paling digemari adalah aktivitas religius "
   ]
  },
  {
   "cell_type": "markdown",
   "metadata": {},
   "source": [
    "### Problem 10. Apakah Status tempat tinggal mempengaruhi nilai akademik?"
   ]
  },
  {
   "cell_type": "code",
   "execution_count": 39,
   "metadata": {},
   "outputs": [
    {
     "name": "stderr",
     "output_type": "stream",
     "text": [
      "C:\\Users\\C O R E I 5\\AppData\\Local\\Temp\\ipykernel_20532\\1728262021.py:2: FutureWarning: \n",
      "\n",
      "Passing `palette` without assigning `hue` is deprecated and will be removed in v0.14.0. Assign the `x` variable to `hue` and set `legend=False` for the same effect.\n",
      "\n",
      "  sns.boxplot(x='residential_status', y='average_gpa', data=df_2, palette='Set3')\n"
     ]
    },
    {
     "data": {
      "image/png": "[encoded data removed]",
      "text/plain": [
       "<Figure size 1000x600 with 1 Axes>"
      ]
     },
     "metadata": {},
     "output_type": "display_data"
    }
   ],
   "source": [
    "plt.figure(figsize=(10, 6))\n",
    "sns.boxplot(x='residential_status', y='average_gpa', data=df_2, palette='Set3')\n",
    "plt.title('GPA Distribution by Residential Status')\n",
    "plt.xlabel('Residential Status')\n",
    "plt.ylabel('Average GPA')\n",
    "plt.show()"
   ]
  },
  {
   "cell_type": "markdown",
   "metadata": {},
   "source": [
    "#### didapatkan dari data bahwa status tempat tinggal tidak berpengaruh dengan nilai akademik"
   ]
  },
  {
   "cell_type": "markdown",
   "metadata": {},
   "source": [
    "## Pengambilan Kesimpulan"
   ]
  },
  {
   "cell_type": "markdown",
   "metadata": {},
   "source": [
    "### Rekap\n",
    "#### - dari data tersebut, mahasiswa paling banyak berada di tingkat depresi 3 sedangkan untuk mahasiswi di tingkat depresi 4.  \n",
    "\n",
    "#### - dari data tersebut didapatkan bahwa tidak adanya hubungan antara banyak atau sedikitnya beban akademik terhadap tahun kuliah mahasiswa/mahasiswi. \n",
    "\n",
    "#### - didapatkan dari data bahwa tidak ada hubungan signfikan dari jam tidur dengan nilai ipk yang berarti durasi jam tidur tidak terlalu mempengaruhi nilai. \n",
    "\n",
    "#### - dari data diatas, didapatkan bahwa mahasiswa/mahasiswi dengann masalah finansial lebih termotivasi untuk belajar dan nilai tinggi karena masalah finansial tingkat 4 dan 5 paling banyak di ipk rata-rata 3.75. \n",
    "\n",
    "#### - Dari data, didapatkan bahwa rata-rata tingkat insekuritas tertinggi ada pada mahasiswa/mahasiswi yang berada pada di jurusan software engineering dan terendah ada pada jurusan information technology. \n",
    "\n",
    "#### - dari data, didapatkan bahwa tidak adanya korelasi antara umur dan insekuritas masa depan yang berarti merasa insecure terhadap masa depan tidak dipengaruhi dengan umur, bisa saja di umur 19 tahun memiliki insekuritas masa depan yang tinggi atau sebaliknya. \n",
    "\n",
    "#### - dikarenakan P-Value > 0.05, maka Tidak adanya Perbedaan tingkat depresi yang signifikan antara mahasiswa/mahasiswi dengan aktifitas olahraga low to none dan moderate to high sports. yang berarti olahraga tidak terlalu signifikan dalam membantu tinggi rendah nya depresi\n",
    "\n",
    "#### - dari data, didapatkan bahwa hubungan sosial berdampak pada tingkat depresi dengan mahasiswa/mahasiswi dengan tingkat hubungan sosial 5 memiliki tingkat depresi paling sedikit.\n",
    "\n",
    "#### - didapatkan dari data bahwa aktivitas melepas stress yang paling digemari adalah aktivitas religius . \n",
    "\n",
    "#### - didapatkan dari data bahwa status tempat tinggal tidak berpengaruh dengan nilai akademik"
   ]
  },
  {
   "cell_type": "markdown",
   "metadata": {},
   "source": [
    "### Insight\n",
    "\n",
    "#### - Beban akademik yang dirasakan tidak dipengaruhi dari seberapa lama mereka kuliah\n",
    "\n",
    "#### - Durasi tidur tidak mempengaruhi nilai ipk \n",
    "\n",
    "#### - Tekanan finansial dapat berfungsi sebagai motivasi untuk meningkatkan prestasi akademik\n",
    "\n",
    "#### - Olahraga tidak terlalu signifikan dalam membantu mengurangi depresi, yang berarti solusi untuk mengurangi depresi beragam pada setiap mahasiswa/mahasiswi\n",
    "\n",
    "#### - Dukungan sosial penting untuk kesehatan mental, solusi bisa berupa acara sosial yang diadakan di kampus\n",
    "\n",
    "#### - Agama berperan penting pada kesehatan mental, solusi bisa berupa acara agamis yang diadakan oleh kampus dengan lembaga agama setempat\n"
   ]
  },
  {
   "cell_type": "markdown",
   "metadata": {},
   "source": [
    "### Summary\n",
    "\n",
    "#### Kesimpulan dari data yang ada adalah bahwa berbagai faktor seperti beban akademik, durasi tidur, masalah finansial, jurusan, olahraga, hubungan sosial, aktivitas melepas stres, dan status tempat tinggal mempengaruhi kesejahteraan mental dan performa akademik mahasiswa/mahasiswi. Namun, tidak semua faktor memiliki hubungan signifikan dengan hasil akademik atau kesehatan mental.\n",
    "\n",
    "#### Secara khusus, beban akademik, durasi tidur, dan status tempat tinggal tidak berpengaruh signifikan terhadap nilai akademik atau tingkat depresi. Di sisi lain, masalah finansial dapat menjadi motivator untuk belajar, sementara hubungan sosial yang baik dapat menurunkan tingkat depresi. Tidak ada perbedaan signifikan dalam tingkat depresi berdasarkan aktivitas olahraga atau usia dalam hal insekuritas masa depan. Selain itu, aktivitas religius adalah cara yang paling digemari untuk mengelola stres di kalangan mahasiswa/mahasiswi.\n",
    "\n",
    "#### Secara keseluruhan, kesejahteraan mental dan performa akademik mahasiswa/mahasiswi dipengaruhi oleh kombinasi faktor internal dan eksternal, dengan motivasi dan dukungan sosial memainkan peran penting dalam mengelola tekanan akademik dan emosional."
   ]
  }
 ],
 "metadata": {
  "kernelspec": {
   "display_name": "base",
   "language": "python",
   "name": "python3"
  },
  "language_info": {
   "codemirror_mode": {
    "name": "ipython",
    "version": 3
   },
   "file_extension": ".py",
   "mimetype": "text/x-python",
   "name": "python",
   "nbconvert_exporter": "python",
   "pygments_lexer": "ipython3",
   "version": "3.12.3"
  }
 },
 "nbformat": 4,
 "nbformat_minor": 2
}
